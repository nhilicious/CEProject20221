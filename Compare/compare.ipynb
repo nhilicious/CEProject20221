{
 "cells": [
  {
   "cell_type": "code",
   "execution_count": null,
   "metadata": {},
   "outputs": [],
   "source": [
    "import numpy as np\n",
    "import matplotlib.pyplot as plt\n",
    "from scipy.special import erfc\n",
    "\n",
    "# Define the signal-to-noise ratio (SNR) in dB\n",
    "snr_dB = np.arange(-6, 11, 1)\n",
    "snr = 10 ** (snr_dB / 10)\n",
    "\n",
    "# Define the number of bits\n",
    "# N = 10**6\n",
    "\n",
    "# Calculate the BER for binary modulation schemes\n",
    "ber1 = 0.5 * (erfc(np.sqrt(0.1*snr))) # BASK 50% depth\n",
    "ber2 = 0.5 * (erfc(np.sqrt(0.5*snr))) # BASK 100% depth\n",
    "ber_BPSK = 0.5 * (erfc(np.sqrt(snr))) # BPSK\n",
    "ber_BFSK = 0.5 * (erfc(np.sqrt(0.5*snr))) # BFSK \n",
    "\n",
    "# Plot the BER diagram\n",
    "plt.semilogy(snr_dB, ber1, 'o-', color='r',label = 'BASK 50%')\n",
    "plt.semilogy(snr_dB, ber2, 'o-', color='g',label = 'BASK 100%')\n",
    "plt.semilogy(snr_dB, ber_BPSK, 'o-', color='b',label = 'BPSK')\n",
    "plt.semilogy(snr_dB, ber_BFSK, '--', color='y',label = 'BPSK')\n",
    "\n",
    "plt.xlabel('Signal-to-Noise Ratio (dB)')\n",
    "plt.ylabel('Bit Error Rate (BER)')\n",
    "plt.title('BER Diagram for Binary Modulation Schemes')\n",
    "plt.grid(True)\n",
    "plt.yticks(fontsize=5)\n",
    "plt.xticks(snr_dB,fontsize=12)\n",
    "plt.legend()\n",
    "plt.show()"
   ]
  }
 ],
 "metadata": {
  "language_info": {
   "name": "python"
  },
  "orig_nbformat": 4
 },
 "nbformat": 4,
 "nbformat_minor": 2
}
